{
  "nbformat": 4,
  "nbformat_minor": 0,
  "metadata": {
    "colab": {
      "provenance": [],
      "toc_visible": true,
      "authorship_tag": "ABX9TyOUt1K5ivYzRT4bbN2d7sIT"
    },
    "kernelspec": {
      "name": "python3",
      "display_name": "Python 3"
    },
    "language_info": {
      "name": "python"
    }
  },
  "cells": [
    {
      "cell_type": "markdown",
      "source": [
        "### **Maestría en Análisis de Datos y Sistemas Inteligentes**\n",
        "**Liliana Patricia Estévez Niño  \n",
        "Luis Ariel Avellaneda Domínguez  \n",
        "Grupo 4**  \n",
        "\n",
        "![New_Logo_Horizontal_V4.png](data:image/png;base64,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)\n",
        "\n"
      ],
      "metadata": {
        "id": "wSB1VgtCwYNH"
      }
    },
    {
      "cell_type": "markdown",
      "source": [
        "# **Actividad 03: “Estudio Comparativo de Modelos de Aprendizaje Supervisado”**"
      ],
      "metadata": {
        "id": "QGgOwBo9uku5"
      }
    },
    {
      "cell_type": "markdown",
      "source": [
        "## **Paso 1:** Seleccionar un conjunto de datos adecuado para abordar el problema de clasificación o regresión."
      ],
      "metadata": {
        "id": "RaIVmBPyu8Dn"
      }
    },
    {
      "cell_type": "markdown",
      "source": [
        "El conjunto de datos seleccionado, es el mismo que hemos venido trabajando sobre predicción de deserción universitaria del Machine Learning Repository UC Irvine:  \n",
        "Predict Students' Dropout and Academic Success  \n",
        "https://archive.ics.uci.edu/dataset/697/predict+students+dropout+and+academic+success"
      ],
      "metadata": {
        "id": "ZX3Zdjpld2Fl"
      }
    },
    {
      "cell_type": "markdown",
      "source": [
        "## Paso 2: Análisis y Preprocesamiento del Conjunto de Datos\n",
        "\n",
        "En esta etapa realizaremos:\n",
        "\n",
        "1. Carga del dataset\n",
        "2. Análisis exploratorio (estructura, tipos, valores nulos, etc.)\n",
        "3. Selección y limpieza de variables\n",
        "4. Codificación de variables categóricas\n",
        "5. Escalado de variables numéricas\n",
        "\n",
        "Este proceso garantiza que el conjunto de datos esté listo para ser utilizado por los modelos de aprendizaje automático.\n"
      ],
      "metadata": {
        "id": "Z6axfVoIe6wF"
      }
    },
    {
      "cell_type": "code",
      "source": [
        "# Montar Google Drive\n",
        "from google.colab import drive\n",
        "drive.mount('/content/drive')\n"
      ],
      "metadata": {
        "colab": {
          "base_uri": "https://localhost:8080/"
        },
        "id": "dzBTNIYght7H",
        "outputId": "4d40e5b0-53d2-499f-854b-4f52bb129f6d"
      },
      "execution_count": 1,
      "outputs": [
        {
          "output_type": "stream",
          "name": "stdout",
          "text": [
            "Mounted at /content/drive\n"
          ]
        }
      ]
    },
    {
      "cell_type": "code",
      "source": [
        "import pandas as pd\n",
        "\n",
        "# Cargar el dataset\n",
        "file_path = '/content/drive/MyDrive/student_data.csv'\n",
        "df = pd.read_csv(file_path)\n",
        "\n",
        "# Verificamos la carga\n",
        "df.head()\n"
      ],
      "metadata": {
        "colab": {
          "base_uri": "https://localhost:8080/",
          "height": 328
        },
        "id": "SoB1Uga4iICj",
        "outputId": "ca5565e0-6caf-4526-bb8e-f6266bcbb48f"
      },
      "execution_count": 2,
      "outputs": [
        {
          "output_type": "execute_result",
          "data": {
            "text/plain": [
              "  Marital status;Application mode;Application order;Course;\"Daytime/evening attendance\\t\";Previous qualification;Previous qualification (grade);Nacionality;Mother's qualification;Father's qualification;Mother's occupation;Father's occupation;Admission grade;Displaced;Educational special needs;Debtor;Tuition fees up to date;Gender;Scholarship holder;Age at enrollment;International;Curricular units 1st sem (credited);Curricular units 1st sem (enrolled);Curricular units 1st sem (evaluations);Curricular units 1st sem (approved);Curricular units 1st sem (grade);Curricular units 1st sem (without evaluations);Curricular units 2nd sem (credited);Curricular units 2nd sem (enrolled);Curricular units 2nd sem (evaluations);Curricular units 2nd sem (approved);Curricular units 2nd sem (grade);Curricular units 2nd sem (without evaluations);Unemployment rate;Inflation rate;GDP;Target\n",
              "0  1;17;5;171;1;1;122.0;1;19;12;5;9;127.3;1;0;0;1...                                                                                                                                                                                                                                                                                                                                                                                                                                                                                                                                                                                                                                                                                                                                                                                                                                                            \n",
              "1  1;15;1;9254;1;1;160.0;1;1;3;3;3;142.5;1;0;0;0;...                                                                                                                                                                                                                                                                                                                                                                                                                                                                                                                                                                                                                                                                                                                                                                                                                                                            \n",
              "2  1;1;5;9070;1;1;122.0;1;37;37;9;9;124.8;1;0;0;0...                                                                                                                                                                                                                                                                                                                                                                                                                                                                                                                                                                                                                                                                                                                                                                                                                                                            \n",
              "3  1;17;2;9773;1;1;122.0;1;38;37;5;3;119.6;1;0;0;...                                                                                                                                                                                                                                                                                                                                                                                                                                                                                                                                                                                                                                                                                                                                                                                                                                                            \n",
              "4  2;39;1;8014;0;1;100.0;1;37;38;9;9;141.5;0;0;0;...                                                                                                                                                                                                                                                                                                                                                                                                                                                                                                                                                                                                                                                                                                                                                                                                                                                            "
            ],
            "text/html": [
              "\n",
              "  <div id=\"df-273b2d67-3116-48f9-a8fa-c4603109937d\" class=\"colab-df-container\">\n",
              "    <div>\n",
              "<style scoped>\n",
              "    .dataframe tbody tr th:only-of-type {\n",
              "        vertical-align: middle;\n",
              "    }\n",
              "\n",
              "    .dataframe tbody tr th {\n",
              "        vertical-align: top;\n",
              "    }\n",
              "\n",
              "    .dataframe thead th {\n",
              "        text-align: right;\n",
              "    }\n",
              "</style>\n",
              "<table border=\"1\" class=\"dataframe\">\n",
              "  <thead>\n",
              "    <tr style=\"text-align: right;\">\n",
              "      <th></th>\n",
              "      <th>Marital status;Application mode;Application order;Course;\"Daytime/evening attendance\\t\";Previous qualification;Previous qualification (grade);Nacionality;Mother's qualification;Father's qualification;Mother's occupation;Father's occupation;Admission grade;Displaced;Educational special needs;Debtor;Tuition fees up to date;Gender;Scholarship holder;Age at enrollment;International;Curricular units 1st sem (credited);Curricular units 1st sem (enrolled);Curricular units 1st sem (evaluations);Curricular units 1st sem (approved);Curricular units 1st sem (grade);Curricular units 1st sem (without evaluations);Curricular units 2nd sem (credited);Curricular units 2nd sem (enrolled);Curricular units 2nd sem (evaluations);Curricular units 2nd sem (approved);Curricular units 2nd sem (grade);Curricular units 2nd sem (without evaluations);Unemployment rate;Inflation rate;GDP;Target</th>\n",
              "    </tr>\n",
              "  </thead>\n",
              "  <tbody>\n",
              "    <tr>\n",
              "      <th>0</th>\n",
              "      <td>1;17;5;171;1;1;122.0;1;19;12;5;9;127.3;1;0;0;1...</td>\n",
              "    </tr>\n",
              "    <tr>\n",
              "      <th>1</th>\n",
              "      <td>1;15;1;9254;1;1;160.0;1;1;3;3;3;142.5;1;0;0;0;...</td>\n",
              "    </tr>\n",
              "    <tr>\n",
              "      <th>2</th>\n",
              "      <td>1;1;5;9070;1;1;122.0;1;37;37;9;9;124.8;1;0;0;0...</td>\n",
              "    </tr>\n",
              "    <tr>\n",
              "      <th>3</th>\n",
              "      <td>1;17;2;9773;1;1;122.0;1;38;37;5;3;119.6;1;0;0;...</td>\n",
              "    </tr>\n",
              "    <tr>\n",
              "      <th>4</th>\n",
              "      <td>2;39;1;8014;0;1;100.0;1;37;38;9;9;141.5;0;0;0;...</td>\n",
              "    </tr>\n",
              "  </tbody>\n",
              "</table>\n",
              "</div>\n",
              "    <div class=\"colab-df-buttons\">\n",
              "\n",
              "  <div class=\"colab-df-container\">\n",
              "    <button class=\"colab-df-convert\" onclick=\"convertToInteractive('df-273b2d67-3116-48f9-a8fa-c4603109937d')\"\n",
              "            title=\"Convert this dataframe to an interactive table.\"\n",
              "            style=\"display:none;\">\n",
              "\n",
              "  <svg xmlns=\"http://www.w3.org/2000/svg\" height=\"24px\" viewBox=\"0 -960 960 960\">\n",
              "    <path d=\"M120-120v-720h720v720H120Zm60-500h600v-160H180v160Zm220 220h160v-160H400v160Zm0 220h160v-160H400v160ZM180-400h160v-160H180v160Zm440 0h160v-160H620v160ZM180-180h160v-160H180v160Zm440 0h160v-160H620v160Z\"/>\n",
              "  </svg>\n",
              "    </button>\n",
              "\n",
              "  <style>\n",
              "    .colab-df-container {\n",
              "      display:flex;\n",
              "      gap: 12px;\n",
              "    }\n",
              "\n",
              "    .colab-df-convert {\n",
              "      background-color: #E8F0FE;\n",
              "      border: none;\n",
              "      border-radius: 50%;\n",
              "      cursor: pointer;\n",
              "      display: none;\n",
              "      fill: #1967D2;\n",
              "      height: 32px;\n",
              "      padding: 0 0 0 0;\n",
              "      width: 32px;\n",
              "    }\n",
              "\n",
              "    .colab-df-convert:hover {\n",
              "      background-color: #E2EBFA;\n",
              "      box-shadow: 0px 1px 2px rgba(60, 64, 67, 0.3), 0px 1px 3px 1px rgba(60, 64, 67, 0.15);\n",
              "      fill: #174EA6;\n",
              "    }\n",
              "\n",
              "    .colab-df-buttons div {\n",
              "      margin-bottom: 4px;\n",
              "    }\n",
              "\n",
              "    [theme=dark] .colab-df-convert {\n",
              "      background-color: #3B4455;\n",
              "      fill: #D2E3FC;\n",
              "    }\n",
              "\n",
              "    [theme=dark] .colab-df-convert:hover {\n",
              "      background-color: #434B5C;\n",
              "      box-shadow: 0px 1px 3px 1px rgba(0, 0, 0, 0.15);\n",
              "      filter: drop-shadow(0px 1px 2px rgba(0, 0, 0, 0.3));\n",
              "      fill: #FFFFFF;\n",
              "    }\n",
              "  </style>\n",
              "\n",
              "    <script>\n",
              "      const buttonEl =\n",
              "        document.querySelector('#df-273b2d67-3116-48f9-a8fa-c4603109937d button.colab-df-convert');\n",
              "      buttonEl.style.display =\n",
              "        google.colab.kernel.accessAllowed ? 'block' : 'none';\n",
              "\n",
              "      async function convertToInteractive(key) {\n",
              "        const element = document.querySelector('#df-273b2d67-3116-48f9-a8fa-c4603109937d');\n",
              "        const dataTable =\n",
              "          await google.colab.kernel.invokeFunction('convertToInteractive',\n",
              "                                                    [key], {});\n",
              "        if (!dataTable) return;\n",
              "\n",
              "        const docLinkHtml = 'Like what you see? Visit the ' +\n",
              "          '<a target=\"_blank\" href=https://colab.research.google.com/notebooks/data_table.ipynb>data table notebook</a>'\n",
              "          + ' to learn more about interactive tables.';\n",
              "        element.innerHTML = '';\n",
              "        dataTable['output_type'] = 'display_data';\n",
              "        await google.colab.output.renderOutput(dataTable, element);\n",
              "        const docLink = document.createElement('div');\n",
              "        docLink.innerHTML = docLinkHtml;\n",
              "        element.appendChild(docLink);\n",
              "      }\n",
              "    </script>\n",
              "  </div>\n",
              "\n",
              "\n",
              "    <div id=\"df-318f803c-8950-467d-a34e-bec10b21c5cd\">\n",
              "      <button class=\"colab-df-quickchart\" onclick=\"quickchart('df-318f803c-8950-467d-a34e-bec10b21c5cd')\"\n",
              "                title=\"Suggest charts\"\n",
              "                style=\"display:none;\">\n",
              "\n",
              "<svg xmlns=\"http://www.w3.org/2000/svg\" height=\"24px\"viewBox=\"0 0 24 24\"\n",
              "     width=\"24px\">\n",
              "    <g>\n",
              "        <path d=\"M19 3H5c-1.1 0-2 .9-2 2v14c0 1.1.9 2 2 2h14c1.1 0 2-.9 2-2V5c0-1.1-.9-2-2-2zM9 17H7v-7h2v7zm4 0h-2V7h2v10zm4 0h-2v-4h2v4z\"/>\n",
              "    </g>\n",
              "</svg>\n",
              "      </button>\n",
              "\n",
              "<style>\n",
              "  .colab-df-quickchart {\n",
              "      --bg-color: #E8F0FE;\n",
              "      --fill-color: #1967D2;\n",
              "      --hover-bg-color: #E2EBFA;\n",
              "      --hover-fill-color: #174EA6;\n",
              "      --disabled-fill-color: #AAA;\n",
              "      --disabled-bg-color: #DDD;\n",
              "  }\n",
              "\n",
              "  [theme=dark] .colab-df-quickchart {\n",
              "      --bg-color: #3B4455;\n",
              "      --fill-color: #D2E3FC;\n",
              "      --hover-bg-color: #434B5C;\n",
              "      --hover-fill-color: #FFFFFF;\n",
              "      --disabled-bg-color: #3B4455;\n",
              "      --disabled-fill-color: #666;\n",
              "  }\n",
              "\n",
              "  .colab-df-quickchart {\n",
              "    background-color: var(--bg-color);\n",
              "    border: none;\n",
              "    border-radius: 50%;\n",
              "    cursor: pointer;\n",
              "    display: none;\n",
              "    fill: var(--fill-color);\n",
              "    height: 32px;\n",
              "    padding: 0;\n",
              "    width: 32px;\n",
              "  }\n",
              "\n",
              "  .colab-df-quickchart:hover {\n",
              "    background-color: var(--hover-bg-color);\n",
              "    box-shadow: 0 1px 2px rgba(60, 64, 67, 0.3), 0 1px 3px 1px rgba(60, 64, 67, 0.15);\n",
              "    fill: var(--button-hover-fill-color);\n",
              "  }\n",
              "\n",
              "  .colab-df-quickchart-complete:disabled,\n",
              "  .colab-df-quickchart-complete:disabled:hover {\n",
              "    background-color: var(--disabled-bg-color);\n",
              "    fill: var(--disabled-fill-color);\n",
              "    box-shadow: none;\n",
              "  }\n",
              "\n",
              "  .colab-df-spinner {\n",
              "    border: 2px solid var(--fill-color);\n",
              "    border-color: transparent;\n",
              "    border-bottom-color: var(--fill-color);\n",
              "    animation:\n",
              "      spin 1s steps(1) infinite;\n",
              "  }\n",
              "\n",
              "  @keyframes spin {\n",
              "    0% {\n",
              "      border-color: transparent;\n",
              "      border-bottom-color: var(--fill-color);\n",
              "      border-left-color: var(--fill-color);\n",
              "    }\n",
              "    20% {\n",
              "      border-color: transparent;\n",
              "      border-left-color: var(--fill-color);\n",
              "      border-top-color: var(--fill-color);\n",
              "    }\n",
              "    30% {\n",
              "      border-color: transparent;\n",
              "      border-left-color: var(--fill-color);\n",
              "      border-top-color: var(--fill-color);\n",
              "      border-right-color: var(--fill-color);\n",
              "    }\n",
              "    40% {\n",
              "      border-color: transparent;\n",
              "      border-right-color: var(--fill-color);\n",
              "      border-top-color: var(--fill-color);\n",
              "    }\n",
              "    60% {\n",
              "      border-color: transparent;\n",
              "      border-right-color: var(--fill-color);\n",
              "    }\n",
              "    80% {\n",
              "      border-color: transparent;\n",
              "      border-right-color: var(--fill-color);\n",
              "      border-bottom-color: var(--fill-color);\n",
              "    }\n",
              "    90% {\n",
              "      border-color: transparent;\n",
              "      border-bottom-color: var(--fill-color);\n",
              "    }\n",
              "  }\n",
              "</style>\n",
              "\n",
              "      <script>\n",
              "        async function quickchart(key) {\n",
              "          const quickchartButtonEl =\n",
              "            document.querySelector('#' + key + ' button');\n",
              "          quickchartButtonEl.disabled = true;  // To prevent multiple clicks.\n",
              "          quickchartButtonEl.classList.add('colab-df-spinner');\n",
              "          try {\n",
              "            const charts = await google.colab.kernel.invokeFunction(\n",
              "                'suggestCharts', [key], {});\n",
              "          } catch (error) {\n",
              "            console.error('Error during call to suggestCharts:', error);\n",
              "          }\n",
              "          quickchartButtonEl.classList.remove('colab-df-spinner');\n",
              "          quickchartButtonEl.classList.add('colab-df-quickchart-complete');\n",
              "        }\n",
              "        (() => {\n",
              "          let quickchartButtonEl =\n",
              "            document.querySelector('#df-318f803c-8950-467d-a34e-bec10b21c5cd button');\n",
              "          quickchartButtonEl.style.display =\n",
              "            google.colab.kernel.accessAllowed ? 'block' : 'none';\n",
              "        })();\n",
              "      </script>\n",
              "    </div>\n",
              "\n",
              "    </div>\n",
              "  </div>\n"
            ],
            "application/vnd.google.colaboratory.intrinsic+json": {
              "type": "dataframe",
              "variable_name": "df",
              "summary": "{\n  \"name\": \"df\",\n  \"rows\": 4424,\n  \"fields\": [\n    {\n      \"column\": \"Marital status;Application mode;Application order;Course;\\\"Daytime/evening attendance\\t\\\";Previous qualification;Previous qualification (grade);Nacionality;Mother's qualification;Father's qualification;Mother's occupation;Father's occupation;Admission grade;Displaced;Educational special needs;Debtor;Tuition fees up to date;Gender;Scholarship holder;Age at enrollment;International;Curricular units 1st sem (credited);Curricular units 1st sem (enrolled);Curricular units 1st sem (evaluations);Curricular units 1st sem (approved);Curricular units 1st sem (grade);Curricular units 1st sem (without evaluations);Curricular units 2nd sem (credited);Curricular units 2nd sem (enrolled);Curricular units 2nd sem (evaluations);Curricular units 2nd sem (approved);Curricular units 2nd sem (grade);Curricular units 2nd sem (without evaluations);Unemployment rate;Inflation rate;GDP;Target\",\n      \"properties\": {\n        \"dtype\": \"string\",\n        \"num_unique_values\": 4424,\n        \"samples\": [\n          \"4;39;1;9130;1;1;133.1;1;3;1;5;5;110.0;1;0;0;1;0;1;30;0;0;6;7;0;0.0;0;0;6;16;1;10.0;0;11.1;0.6;2.02;Dropout\",\n          \"1;17;1;9238;1;1;125.0;1;4;3;1;1;119.8;0;0;0;1;0;0;18;0;0;6;9;5;11.571428571428571;0;0;6;8;6;12.142857142857142;0;16.2;0.3;-0.92;Graduate\",\n          \"1;17;1;9853;1;1;133.0;1;38;38;9;9;127.4;0;0;1;1;0;1;18;0;0;7;7;7;12.714285714285714;0;0;7;7;7;12.285714285714286;0;16.2;0.3;-0.92;Graduate\"\n        ],\n        \"semantic_type\": \"\",\n        \"description\": \"\"\n      }\n    }\n  ]\n}"
            }
          },
          "metadata": {},
          "execution_count": 2
        }
      ]
    },
    {
      "cell_type": "code",
      "source": [
        "df = pd.read_csv(file_path, delimiter=';')\n"
      ],
      "metadata": {
        "id": "AD7qDYADibsh"
      },
      "execution_count": 3,
      "outputs": []
    },
    {
      "cell_type": "code",
      "source": [
        "df.head()\n",
        "df.info()\n"
      ],
      "metadata": {
        "colab": {
          "base_uri": "https://localhost:8080/"
        },
        "id": "ZGIBCpI7icaN",
        "outputId": "9965a022-5296-4791-b48e-5ac171c705fb"
      },
      "execution_count": 4,
      "outputs": [
        {
          "output_type": "stream",
          "name": "stdout",
          "text": [
            "<class 'pandas.core.frame.DataFrame'>\n",
            "RangeIndex: 4424 entries, 0 to 4423\n",
            "Data columns (total 37 columns):\n",
            " #   Column                                          Non-Null Count  Dtype  \n",
            "---  ------                                          --------------  -----  \n",
            " 0   Marital status                                  4424 non-null   int64  \n",
            " 1   Application mode                                4424 non-null   int64  \n",
            " 2   Application order                               4424 non-null   int64  \n",
            " 3   Course                                          4424 non-null   int64  \n",
            " 4   Daytime/evening attendance\t                     4424 non-null   int64  \n",
            " 5   Previous qualification                          4424 non-null   int64  \n",
            " 6   Previous qualification (grade)                  4424 non-null   float64\n",
            " 7   Nacionality                                     4424 non-null   int64  \n",
            " 8   Mother's qualification                          4424 non-null   int64  \n",
            " 9   Father's qualification                          4424 non-null   int64  \n",
            " 10  Mother's occupation                             4424 non-null   int64  \n",
            " 11  Father's occupation                             4424 non-null   int64  \n",
            " 12  Admission grade                                 4424 non-null   float64\n",
            " 13  Displaced                                       4424 non-null   int64  \n",
            " 14  Educational special needs                       4424 non-null   int64  \n",
            " 15  Debtor                                          4424 non-null   int64  \n",
            " 16  Tuition fees up to date                         4424 non-null   int64  \n",
            " 17  Gender                                          4424 non-null   int64  \n",
            " 18  Scholarship holder                              4424 non-null   int64  \n",
            " 19  Age at enrollment                               4424 non-null   int64  \n",
            " 20  International                                   4424 non-null   int64  \n",
            " 21  Curricular units 1st sem (credited)             4424 non-null   int64  \n",
            " 22  Curricular units 1st sem (enrolled)             4424 non-null   int64  \n",
            " 23  Curricular units 1st sem (evaluations)          4424 non-null   int64  \n",
            " 24  Curricular units 1st sem (approved)             4424 non-null   int64  \n",
            " 25  Curricular units 1st sem (grade)                4424 non-null   float64\n",
            " 26  Curricular units 1st sem (without evaluations)  4424 non-null   int64  \n",
            " 27  Curricular units 2nd sem (credited)             4424 non-null   int64  \n",
            " 28  Curricular units 2nd sem (enrolled)             4424 non-null   int64  \n",
            " 29  Curricular units 2nd sem (evaluations)          4424 non-null   int64  \n",
            " 30  Curricular units 2nd sem (approved)             4424 non-null   int64  \n",
            " 31  Curricular units 2nd sem (grade)                4424 non-null   float64\n",
            " 32  Curricular units 2nd sem (without evaluations)  4424 non-null   int64  \n",
            " 33  Unemployment rate                               4424 non-null   float64\n",
            " 34  Inflation rate                                  4424 non-null   float64\n",
            " 35  GDP                                             4424 non-null   float64\n",
            " 36  Target                                          4424 non-null   object \n",
            "dtypes: float64(7), int64(29), object(1)\n",
            "memory usage: 1.2+ MB\n"
          ]
        }
      ]
    },
    {
      "cell_type": "markdown",
      "source": [
        "De la salida df.info(), observamos que:\n",
        "\n",
        "Hay 37 columnas y 4,424 registros.\n",
        "\n",
        "No hay valores nulos (Non-Null en todas las columnas).\n",
        "\n",
        "Los tipos de datos están bien identificados: int64, float64, y object (categóricas).\n",
        "\n",
        "La columna Target está presente y lista para ser usada como variable objetivo."
      ],
      "metadata": {
        "id": "9xbqHvRPjn_F"
      }
    },
    {
      "cell_type": "markdown",
      "source": [
        "**Codificación de Variables Categóricas**\n",
        "\n",
        "Nuestro subconjunto de datos solo tiene 2 variables categóricas:\n",
        "\n",
        "Target: variable objetivo con tres clases (Graduate, Dropout, Enrolled)\n",
        "\n",
        "Course: representa la carrera elegida por el estudiante\n",
        "\n",
        "Ambas deben codificarse numéricamente.\n",
        "\n",
        "Usaremos LabelEncoder porque ambas son variables categóricas nominales, no ordinales.  \n",
        "**¿Por qué no usamos One-Hot Encoding?**\n",
        "\n",
        "Porque:\n",
        "\n",
        "Course tiene muchos valores distintos, lo que haría que el dataset se infle demasiado si usamos one-hot.\n",
        "\n",
        "Target solo tiene 3 clases y además será usada como etiqueta (y), así que LabelEncoder es perfecto."
      ],
      "metadata": {
        "id": "tq8RWVl4kx-C"
      }
    },
    {
      "cell_type": "code",
      "source": [
        "from sklearn.preprocessing import LabelEncoder\n",
        "\n",
        "# Codificamos la variable objetivo\n",
        "le_target = LabelEncoder()\n",
        "df['Target'] = le_target.fit_transform(df['Target'])\n",
        "\n",
        "# Codificamos la variable 'Course'\n",
        "le_course = LabelEncoder()\n",
        "df['Course'] = le_course.fit_transform(df['Course'])\n",
        "\n",
        "# Verificamos el resultado\n",
        "df[['Target', 'Course']].head()\n"
      ],
      "metadata": {
        "colab": {
          "base_uri": "https://localhost:8080/",
          "height": 206
        },
        "id": "nss97D8Ikk3G",
        "outputId": "d407a253-0f5b-432c-ea91-1e25853292a3"
      },
      "execution_count": 5,
      "outputs": [
        {
          "output_type": "execute_result",
          "data": {
            "text/plain": [
              "   Target  Course\n",
              "0       0       1\n",
              "1       2      10\n",
              "2       0       4\n",
              "3       2      14\n",
              "4       2       2"
            ],
            "text/html": [
              "\n",
              "  <div id=\"df-5b15e357-bbb2-4baf-a36f-a0ea62ed9626\" class=\"colab-df-container\">\n",
              "    <div>\n",
              "<style scoped>\n",
              "    .dataframe tbody tr th:only-of-type {\n",
              "        vertical-align: middle;\n",
              "    }\n",
              "\n",
              "    .dataframe tbody tr th {\n",
              "        vertical-align: top;\n",
              "    }\n",
              "\n",
              "    .dataframe thead th {\n",
              "        text-align: right;\n",
              "    }\n",
              "</style>\n",
              "<table border=\"1\" class=\"dataframe\">\n",
              "  <thead>\n",
              "    <tr style=\"text-align: right;\">\n",
              "      <th></th>\n",
              "      <th>Target</th>\n",
              "      <th>Course</th>\n",
              "    </tr>\n",
              "  </thead>\n",
              "  <tbody>\n",
              "    <tr>\n",
              "      <th>0</th>\n",
              "      <td>0</td>\n",
              "      <td>1</td>\n",
              "    </tr>\n",
              "    <tr>\n",
              "      <th>1</th>\n",
              "      <td>2</td>\n",
              "      <td>10</td>\n",
              "    </tr>\n",
              "    <tr>\n",
              "      <th>2</th>\n",
              "      <td>0</td>\n",
              "      <td>4</td>\n",
              "    </tr>\n",
              "    <tr>\n",
              "      <th>3</th>\n",
              "      <td>2</td>\n",
              "      <td>14</td>\n",
              "    </tr>\n",
              "    <tr>\n",
              "      <th>4</th>\n",
              "      <td>2</td>\n",
              "      <td>2</td>\n",
              "    </tr>\n",
              "  </tbody>\n",
              "</table>\n",
              "</div>\n",
              "    <div class=\"colab-df-buttons\">\n",
              "\n",
              "  <div class=\"colab-df-container\">\n",
              "    <button class=\"colab-df-convert\" onclick=\"convertToInteractive('df-5b15e357-bbb2-4baf-a36f-a0ea62ed9626')\"\n",
              "            title=\"Convert this dataframe to an interactive table.\"\n",
              "            style=\"display:none;\">\n",
              "\n",
              "  <svg xmlns=\"http://www.w3.org/2000/svg\" height=\"24px\" viewBox=\"0 -960 960 960\">\n",
              "    <path d=\"M120-120v-720h720v720H120Zm60-500h600v-160H180v160Zm220 220h160v-160H400v160Zm0 220h160v-160H400v160ZM180-400h160v-160H180v160Zm440 0h160v-160H620v160ZM180-180h160v-160H180v160Zm440 0h160v-160H620v160Z\"/>\n",
              "  </svg>\n",
              "    </button>\n",
              "\n",
              "  <style>\n",
              "    .colab-df-container {\n",
              "      display:flex;\n",
              "      gap: 12px;\n",
              "    }\n",
              "\n",
              "    .colab-df-convert {\n",
              "      background-color: #E8F0FE;\n",
              "      border: none;\n",
              "      border-radius: 50%;\n",
              "      cursor: pointer;\n",
              "      display: none;\n",
              "      fill: #1967D2;\n",
              "      height: 32px;\n",
              "      padding: 0 0 0 0;\n",
              "      width: 32px;\n",
              "    }\n",
              "\n",
              "    .colab-df-convert:hover {\n",
              "      background-color: #E2EBFA;\n",
              "      box-shadow: 0px 1px 2px rgba(60, 64, 67, 0.3), 0px 1px 3px 1px rgba(60, 64, 67, 0.15);\n",
              "      fill: #174EA6;\n",
              "    }\n",
              "\n",
              "    .colab-df-buttons div {\n",
              "      margin-bottom: 4px;\n",
              "    }\n",
              "\n",
              "    [theme=dark] .colab-df-convert {\n",
              "      background-color: #3B4455;\n",
              "      fill: #D2E3FC;\n",
              "    }\n",
              "\n",
              "    [theme=dark] .colab-df-convert:hover {\n",
              "      background-color: #434B5C;\n",
              "      box-shadow: 0px 1px 3px 1px rgba(0, 0, 0, 0.15);\n",
              "      filter: drop-shadow(0px 1px 2px rgba(0, 0, 0, 0.3));\n",
              "      fill: #FFFFFF;\n",
              "    }\n",
              "  </style>\n",
              "\n",
              "    <script>\n",
              "      const buttonEl =\n",
              "        document.querySelector('#df-5b15e357-bbb2-4baf-a36f-a0ea62ed9626 button.colab-df-convert');\n",
              "      buttonEl.style.display =\n",
              "        google.colab.kernel.accessAllowed ? 'block' : 'none';\n",
              "\n",
              "      async function convertToInteractive(key) {\n",
              "        const element = document.querySelector('#df-5b15e357-bbb2-4baf-a36f-a0ea62ed9626');\n",
              "        const dataTable =\n",
              "          await google.colab.kernel.invokeFunction('convertToInteractive',\n",
              "                                                    [key], {});\n",
              "        if (!dataTable) return;\n",
              "\n",
              "        const docLinkHtml = 'Like what you see? Visit the ' +\n",
              "          '<a target=\"_blank\" href=https://colab.research.google.com/notebooks/data_table.ipynb>data table notebook</a>'\n",
              "          + ' to learn more about interactive tables.';\n",
              "        element.innerHTML = '';\n",
              "        dataTable['output_type'] = 'display_data';\n",
              "        await google.colab.output.renderOutput(dataTable, element);\n",
              "        const docLink = document.createElement('div');\n",
              "        docLink.innerHTML = docLinkHtml;\n",
              "        element.appendChild(docLink);\n",
              "      }\n",
              "    </script>\n",
              "  </div>\n",
              "\n",
              "\n",
              "    <div id=\"df-7a2b4e7f-64f5-4e6a-814a-1cb645e2ea72\">\n",
              "      <button class=\"colab-df-quickchart\" onclick=\"quickchart('df-7a2b4e7f-64f5-4e6a-814a-1cb645e2ea72')\"\n",
              "                title=\"Suggest charts\"\n",
              "                style=\"display:none;\">\n",
              "\n",
              "<svg xmlns=\"http://www.w3.org/2000/svg\" height=\"24px\"viewBox=\"0 0 24 24\"\n",
              "     width=\"24px\">\n",
              "    <g>\n",
              "        <path d=\"M19 3H5c-1.1 0-2 .9-2 2v14c0 1.1.9 2 2 2h14c1.1 0 2-.9 2-2V5c0-1.1-.9-2-2-2zM9 17H7v-7h2v7zm4 0h-2V7h2v10zm4 0h-2v-4h2v4z\"/>\n",
              "    </g>\n",
              "</svg>\n",
              "      </button>\n",
              "\n",
              "<style>\n",
              "  .colab-df-quickchart {\n",
              "      --bg-color: #E8F0FE;\n",
              "      --fill-color: #1967D2;\n",
              "      --hover-bg-color: #E2EBFA;\n",
              "      --hover-fill-color: #174EA6;\n",
              "      --disabled-fill-color: #AAA;\n",
              "      --disabled-bg-color: #DDD;\n",
              "  }\n",
              "\n",
              "  [theme=dark] .colab-df-quickchart {\n",
              "      --bg-color: #3B4455;\n",
              "      --fill-color: #D2E3FC;\n",
              "      --hover-bg-color: #434B5C;\n",
              "      --hover-fill-color: #FFFFFF;\n",
              "      --disabled-bg-color: #3B4455;\n",
              "      --disabled-fill-color: #666;\n",
              "  }\n",
              "\n",
              "  .colab-df-quickchart {\n",
              "    background-color: var(--bg-color);\n",
              "    border: none;\n",
              "    border-radius: 50%;\n",
              "    cursor: pointer;\n",
              "    display: none;\n",
              "    fill: var(--fill-color);\n",
              "    height: 32px;\n",
              "    padding: 0;\n",
              "    width: 32px;\n",
              "  }\n",
              "\n",
              "  .colab-df-quickchart:hover {\n",
              "    background-color: var(--hover-bg-color);\n",
              "    box-shadow: 0 1px 2px rgba(60, 64, 67, 0.3), 0 1px 3px 1px rgba(60, 64, 67, 0.15);\n",
              "    fill: var(--button-hover-fill-color);\n",
              "  }\n",
              "\n",
              "  .colab-df-quickchart-complete:disabled,\n",
              "  .colab-df-quickchart-complete:disabled:hover {\n",
              "    background-color: var(--disabled-bg-color);\n",
              "    fill: var(--disabled-fill-color);\n",
              "    box-shadow: none;\n",
              "  }\n",
              "\n",
              "  .colab-df-spinner {\n",
              "    border: 2px solid var(--fill-color);\n",
              "    border-color: transparent;\n",
              "    border-bottom-color: var(--fill-color);\n",
              "    animation:\n",
              "      spin 1s steps(1) infinite;\n",
              "  }\n",
              "\n",
              "  @keyframes spin {\n",
              "    0% {\n",
              "      border-color: transparent;\n",
              "      border-bottom-color: var(--fill-color);\n",
              "      border-left-color: var(--fill-color);\n",
              "    }\n",
              "    20% {\n",
              "      border-color: transparent;\n",
              "      border-left-color: var(--fill-color);\n",
              "      border-top-color: var(--fill-color);\n",
              "    }\n",
              "    30% {\n",
              "      border-color: transparent;\n",
              "      border-left-color: var(--fill-color);\n",
              "      border-top-color: var(--fill-color);\n",
              "      border-right-color: var(--fill-color);\n",
              "    }\n",
              "    40% {\n",
              "      border-color: transparent;\n",
              "      border-right-color: var(--fill-color);\n",
              "      border-top-color: var(--fill-color);\n",
              "    }\n",
              "    60% {\n",
              "      border-color: transparent;\n",
              "      border-right-color: var(--fill-color);\n",
              "    }\n",
              "    80% {\n",
              "      border-color: transparent;\n",
              "      border-right-color: var(--fill-color);\n",
              "      border-bottom-color: var(--fill-color);\n",
              "    }\n",
              "    90% {\n",
              "      border-color: transparent;\n",
              "      border-bottom-color: var(--fill-color);\n",
              "    }\n",
              "  }\n",
              "</style>\n",
              "\n",
              "      <script>\n",
              "        async function quickchart(key) {\n",
              "          const quickchartButtonEl =\n",
              "            document.querySelector('#' + key + ' button');\n",
              "          quickchartButtonEl.disabled = true;  // To prevent multiple clicks.\n",
              "          quickchartButtonEl.classList.add('colab-df-spinner');\n",
              "          try {\n",
              "            const charts = await google.colab.kernel.invokeFunction(\n",
              "                'suggestCharts', [key], {});\n",
              "          } catch (error) {\n",
              "            console.error('Error during call to suggestCharts:', error);\n",
              "          }\n",
              "          quickchartButtonEl.classList.remove('colab-df-spinner');\n",
              "          quickchartButtonEl.classList.add('colab-df-quickchart-complete');\n",
              "        }\n",
              "        (() => {\n",
              "          let quickchartButtonEl =\n",
              "            document.querySelector('#df-7a2b4e7f-64f5-4e6a-814a-1cb645e2ea72 button');\n",
              "          quickchartButtonEl.style.display =\n",
              "            google.colab.kernel.accessAllowed ? 'block' : 'none';\n",
              "        })();\n",
              "      </script>\n",
              "    </div>\n",
              "\n",
              "    </div>\n",
              "  </div>\n"
            ],
            "application/vnd.google.colaboratory.intrinsic+json": {
              "type": "dataframe",
              "summary": "{\n  \"name\": \"df[['Target', 'Course']]\",\n  \"rows\": 5,\n  \"fields\": [\n    {\n      \"column\": \"Target\",\n      \"properties\": {\n        \"dtype\": \"number\",\n        \"std\": 1,\n        \"min\": 0,\n        \"max\": 2,\n        \"num_unique_values\": 2,\n        \"samples\": [\n          2,\n          0\n        ],\n        \"semantic_type\": \"\",\n        \"description\": \"\"\n      }\n    },\n    {\n      \"column\": \"Course\",\n      \"properties\": {\n        \"dtype\": \"number\",\n        \"std\": 5,\n        \"min\": 1,\n        \"max\": 14,\n        \"num_unique_values\": 5,\n        \"samples\": [\n          10,\n          2\n        ],\n        \"semantic_type\": \"\",\n        \"description\": \"\"\n      }\n    }\n  ]\n}"
            }
          },
          "metadata": {},
          "execution_count": 5
        }
      ]
    },
    {
      "cell_type": "markdown",
      "source": [
        "**Escalado de Variables Numéricas**\n",
        "\n",
        "La mayoría de las variables son numéricas y algunas tienen rangos distintos (por ejemplo, edad puede ir de 17 a 60, mientras que evaluaciones va de 0 a 20).\n",
        "\n",
        "Para garantizar que todos los modelos (especialmente KNN, SVM, etc.) trabajen bien, normalizamos los datos.\n",
        "\n",
        "Usamos StandardScaler, que convierte los valores a una distribución con media 0 y desviación estándar 1."
      ],
      "metadata": {
        "id": "S76mHO-ulPTK"
      }
    },
    {
      "cell_type": "code",
      "source": [
        "from sklearn.preprocessing import StandardScaler\n",
        "\n",
        "# Separamos características (X) y etiqueta (y)\n",
        "X = df.drop('Target', axis=1)\n",
        "y = df['Target']\n",
        "\n",
        "# Aplicamos escalado\n",
        "scaler = StandardScaler()\n",
        "X_scaled = scaler.fit_transform(X)\n"
      ],
      "metadata": {
        "id": "D9mpDve5igfE"
      },
      "execution_count": 6,
      "outputs": []
    },
    {
      "cell_type": "markdown",
      "source": [
        "## **Paso 3: Implementar varios modelos de aprendizaje automático orientados al problema seleccionado, es decir, modelos de clasificación o regresión.**"
      ],
      "metadata": {
        "id": "5CSOxPnHYhMz"
      }
    },
    {
      "cell_type": "markdown",
      "source": [
        "En este paso implementaremos y entrenaremos varios modelos de clasificación utilizando el conjunto de datos previamente preprocesado.\n",
        "\n",
        "**Objetivo**  \n",
        "Comparar el desempeño de distintos algoritmos de aprendizaje supervisado aplicados al problema de predicción del estado final del estudiante (`graduate`, `dropout`, `enrolled`), utilizando los datos académicos y administrativos disponibles.\n",
        "\n",
        "**Modelos a implementar**\n",
        "Los siguientes modelos de clasificación serán entrenados con los mismos datos:\n",
        "- Regresión Logística Multiclase\n",
        "- K-Nearest Neighbors (KNN)\n",
        "- Árbol de Decisión\n",
        "- Random Forest\n",
        "- Support Vector Machine (SVM)\n",
        "\n",
        "**Metodología**\n",
        "1. Dividir el conjunto de datos en entrenamiento (70%) y prueba (30%).\n",
        "2. Entrenar cada modelo con los mismos datos de entrenamiento.\n",
        "3. Evaluar su rendimiento utilizando métricas de clasificación:\n",
        "   - Precisión (accuracy)\n",
        "   - Recall\n",
        "   - F1-score\n",
        "   - Reporte de clasificación detallado por clase\n",
        "4. Analizar los resultados obtenidos para determinar cuál modelo se desempeña mejor en este problema específico.\n",
        "\n",
        "Este análisis nos permitirá comprender las fortalezas y limitaciones de cada modelo, así como elegir el más adecuado para nuestro caso.  \n",
        "**División de datos: 70 % entrenamiento / 30 % prueba**\n",
        "\n",
        "Para entrenar y evaluar nuestros modelos, se decidió dividir el conjunto de datos en un 70 % para entrenamiento y 30 % para prueba.\n",
        "\n",
        "Esta proporción fue elegida considerando lo siguiente:\n",
        "\n",
        "- El conjunto de datos tiene un tamaño adecuado (4 424 registros), por lo que destinar un 30 % a la prueba sigue dejando suficiente información para entrenar modelos robustos.\n",
        "- Dado que el problema presenta una **clara desproporción entre clases** (por ejemplo, más estudiantes graduados que desertores), esta división permite tener más ejemplos en cada clase dentro del conjunto de prueba, mejorando la **evaluación de métricas como F1-score y recall**, especialmente para las clases minoritarias.\n",
        "- Se aplicó **estratificación** durante la división para asegurar que la proporción de clases se mantenga similar tanto en el entrenamiento como en la prueba.\n",
        "\n",
        "Esta decisión busca lograr un equilibrio entre un buen entrenamiento del modelo y una evaluación realista de su desempeño.\n",
        "\n"
      ],
      "metadata": {
        "id": "P9cR00A-Y5pX"
      }
    },
    {
      "cell_type": "code",
      "source": [
        "# ✅ División de datos\n",
        "from sklearn.model_selection import train_test_split\n",
        "\n",
        "X_train, X_test, y_train, y_test = train_test_split(\n",
        "    X_scaled, y, test_size=0.3, random_state=42, stratify=y\n",
        ")\n"
      ],
      "metadata": {
        "id": "GWuShbSDYvKa"
      },
      "execution_count": 7,
      "outputs": []
    },
    {
      "cell_type": "code",
      "source": [
        "# Importamos modelos\n",
        "from sklearn.linear_model import LogisticRegression\n",
        "from sklearn.neighbors import KNeighborsClassifier\n",
        "from sklearn.tree import DecisionTreeClassifier\n",
        "from sklearn.ensemble import RandomForestClassifier\n",
        "from sklearn.svm import SVC\n",
        "\n",
        "# Creamos y entrenamos los modelos\n",
        "models = {\n",
        "    \"Logistic Regression\": LogisticRegression(multi_class='multinomial', max_iter=1000),\n",
        "    \"K-Nearest Neighbors\": KNeighborsClassifier(),\n",
        "    \"Decision Tree\": DecisionTreeClassifier(random_state=42),\n",
        "    \"Random Forest\": RandomForestClassifier(random_state=42),\n",
        "    \"SVM\": SVC(decision_function_shape='ovr')\n",
        "}\n",
        "\n",
        "# Entrenamos los modelos\n",
        "for name, model in models.items():\n",
        "    model.fit(X_train, y_train)\n"
      ],
      "metadata": {
        "colab": {
          "base_uri": "https://localhost:8080/"
        },
        "id": "mpsbAsDjaQH8",
        "outputId": "d45071dd-19b4-414a-8f3f-f1aaa5c68d9a"
      },
      "execution_count": 8,
      "outputs": [
        {
          "output_type": "stream",
          "name": "stderr",
          "text": [
            "/usr/local/lib/python3.12/dist-packages/sklearn/linear_model/_logistic.py:1247: FutureWarning: 'multi_class' was deprecated in version 1.5 and will be removed in 1.7. From then on, it will always use 'multinomial'. Leave it to its default value to avoid this warning.\n",
            "  warnings.warn(\n"
          ]
        }
      ]
    },
    {
      "cell_type": "code",
      "source": [
        "from sklearn.metrics import classification_report\n",
        "\n",
        "# Evaluamos el desempeño de cada modelo\n",
        "for name, model in models.items():\n",
        "    print(f\"Modelo: {name}\")\n",
        "    y_pred = model.predict(X_test)\n",
        "    print(classification_report(y_test, y_pred, target_names=le_target.classes_))\n",
        "    print(\"=\"*60)\n"
      ],
      "metadata": {
        "colab": {
          "base_uri": "https://localhost:8080/"
        },
        "id": "Z99jJiy8ayr8",
        "outputId": "759df8eb-98d8-46f7-a0a9-c423b26b72b5"
      },
      "execution_count": 9,
      "outputs": [
        {
          "output_type": "stream",
          "name": "stdout",
          "text": [
            "Modelo: Logistic Regression\n",
            "              precision    recall  f1-score   support\n",
            "\n",
            "     Dropout       0.80      0.75      0.78       427\n",
            "    Enrolled       0.53      0.35      0.42       238\n",
            "    Graduate       0.80      0.93      0.86       663\n",
            "\n",
            "    accuracy                           0.77      1328\n",
            "   macro avg       0.71      0.68      0.69      1328\n",
            "weighted avg       0.75      0.77      0.75      1328\n",
            "\n",
            "============================================================\n",
            "Modelo: K-Nearest Neighbors\n",
            "              precision    recall  f1-score   support\n",
            "\n",
            "     Dropout       0.74      0.69      0.71       427\n",
            "    Enrolled       0.36      0.28      0.31       238\n",
            "    Graduate       0.74      0.82      0.78       663\n",
            "\n",
            "    accuracy                           0.68      1328\n",
            "   macro avg       0.61      0.60      0.60      1328\n",
            "weighted avg       0.67      0.68      0.67      1328\n",
            "\n",
            "============================================================\n",
            "Modelo: Decision Tree\n",
            "              precision    recall  f1-score   support\n",
            "\n",
            "     Dropout       0.72      0.67      0.69       427\n",
            "    Enrolled       0.39      0.48      0.43       238\n",
            "    Graduate       0.79      0.76      0.78       663\n",
            "\n",
            "    accuracy                           0.68      1328\n",
            "   macro avg       0.63      0.64      0.63      1328\n",
            "weighted avg       0.70      0.68      0.69      1328\n",
            "\n",
            "============================================================\n",
            "Modelo: Random Forest\n",
            "              precision    recall  f1-score   support\n",
            "\n",
            "     Dropout       0.79      0.77      0.78       427\n",
            "    Enrolled       0.58      0.35      0.44       238\n",
            "    Graduate       0.80      0.93      0.86       663\n",
            "\n",
            "    accuracy                           0.77      1328\n",
            "   macro avg       0.72      0.68      0.69      1328\n",
            "weighted avg       0.76      0.77      0.76      1328\n",
            "\n",
            "============================================================\n",
            "Modelo: SVM\n",
            "              precision    recall  f1-score   support\n",
            "\n",
            "     Dropout       0.82      0.72      0.77       427\n",
            "    Enrolled       0.47      0.35      0.40       238\n",
            "    Graduate       0.78      0.92      0.84       663\n",
            "\n",
            "    accuracy                           0.75      1328\n",
            "   macro avg       0.69      0.66      0.67      1328\n",
            "weighted avg       0.74      0.75      0.74      1328\n",
            "\n",
            "============================================================\n"
          ]
        }
      ]
    },
    {
      "cell_type": "markdown",
      "source": [
        "**Evaluación Comparativa de Modelos de Clasificación**\n",
        "\n",
        "A continuación se presentan los resultados obtenidos al aplicar distintos modelos de aprendizaje automático al problema de predicción del estado final del estudiante.\n",
        "\n",
        "**Modelos Evaluados**\n",
        "- Regresión Logística\n",
        "- K-Nearest Neighbors (KNN)\n",
        "- Árbol de Decisión\n",
        "- Random Forest\n",
        "- Support Vector Machine (SVM)\n",
        "\n",
        "**Métricas de Evaluación**\n",
        "Se utilizaron las siguientes métricas para evaluar el rendimiento de los modelos:\n",
        "- **Accuracy**: porcentaje de predicciones correctas.\n",
        "- **F1-score**: media armónica entre precisión y recall.\n",
        "- **Macro Avg F1**: promedio del F1 por clase, útil en problemas desbalanceados.\n",
        "- **Weighted Avg F1**: F1 ponderado por la cantidad de instancias por clase.\n",
        "\n",
        "**Resultados Comparativos**\n",
        "\n",
        "| Modelo               | Accuracy | F1-Score Macro | F1-Score \"Enrolled\" |\n",
        "|----------------------|----------|----------------|----------------------|\n",
        "| **Logistic Regression**| **0.77** | **0.68**   | **0.42**             |\n",
        "| K-Nearest Neighbors  | 0.68     | 0.60           | 0.31                 |\n",
        "| Decision Tree        | 0.69     | 0.64           | 0.43                 |\n",
        "| **Random Forest**    | **0.77** | **0.69**       | **0.44**             |\n",
        "| SVM                  | 0.75     | 0.67           | 0.40                 |\n",
        "\n",
        "**Conclusiones**\n",
        "\n",
        "- El modelo **Random Forest** fue el más efectivo, con la mejor combinación de accuracy general y F1-score macro.\n",
        "- Todos los modelos presentan dificultad para predecir correctamente la clase **\"Enrolled\"**, probablemente debido al desequilibrio de clases.\n",
        "- Modelos como KNN y SVM pueden mejorar si se ajustan sus hiperparámetros.\n",
        "- Se recomienda continuar con **Random Forest** para pruebas más avanzadas y ajuste fino (GridSearch, etc.).\n",
        "\n"
      ],
      "metadata": {
        "id": "Vfea6tZ6cKHz"
      }
    },
    {
      "cell_type": "markdown",
      "source": [
        "## **Paso 4: Seleccionar las métricas adecuadas para evaluar el desempeño de los modelos dependiendo del problema tratado (clasificación o regresión)**\n",
        "Selección de Métricas de Evaluación\n",
        "\n",
        "## Tipo de problema\n",
        "Este es un problema de **clasificación multiclase**, ya que la variable objetivo (`Target`) puede tomar tres valores:  \n",
        "- `Graduate`  \n",
        "- `Dropout`  \n",
        "- `Enrolled`\n",
        "\n",
        "## Métricas utilizadas\n",
        "Para evaluar el desempeño de los modelos, se usaron las siguientes métricas:\n",
        "\n",
        "### 1. **Accuracy (Precisión Global)**\n",
        "- Representa el porcentaje total de predicciones correctas.\n",
        "- Es una métrica general útil, pero **puede ser engañosa en datasets desbalanceados**.\n",
        "\n",
        "### 2. **Precision**\n",
        "- Indica qué proporción de las predicciones positivas de una clase son correctas.\n",
        "- Útil cuando **el costo de una falsa predicción positiva es alto**.\n",
        "\n",
        "### 3. **Recall**\n",
        "- Mide qué proporción de los verdaderos casos positivos fueron correctamente identificados.\n",
        "- Importante para detectar clases con bajo soporte (por ejemplo, estudiantes \"enrolled\").\n",
        "\n",
        "### 4. **F1-Score**\n",
        "- Promedio armónico entre precision y recall.\n",
        "- Balancea los falsos positivos y falsos negativos, ideal en **problemas con clases desbalanceadas**.\n",
        "\n",
        "### 5. **Macro Average F1**\n",
        "- Promedia el F1-score de cada clase **por igual**, sin importar cuántas instancias tiene cada una.\n",
        "- Muy útil cuando se quiere evaluar el modelo **de forma equitativa entre clases**.\n",
        "\n",
        "### 6. **Weighted Average F1**\n",
        "- Promedia el F1-score ponderado por la cantidad de instancias en cada clase.\n",
        "- Refleja el desempeño global teniendo en cuenta el desequilibrio de clases.\n",
        "\n",
        "## Justificación de la elección\n",
        "Dado que el conjunto de datos presenta un **desequilibrio importante entre clases**, especialmente en la clase \"Enrolled\", se priorizaron métricas que reflejen el **desempeño individual por clase** (como el F1-score y sus variantes). Esto proporciona una evaluación más completa y justa del comportamiento de los modelos, más allá del accuracy general.\n",
        "\n"
      ],
      "metadata": {
        "id": "fZ6qJQygdi9Y"
      }
    },
    {
      "cell_type": "markdown",
      "source": [
        "**Aclaración sobre el tipo de problema**\n",
        "\n",
        "El problema abordado en esta actividad es un caso claro de **clasificación multiclase**, ya que la variable objetivo (`Target`) toma uno de tres valores categóricos:\n",
        "\n",
        "- `Graduate`\n",
        "- `Dropout`\n",
        "- `Enrolled`\n",
        "\n",
        "Estos valores representan diferentes estados finales del estudiante y no corresponden a valores continuos ni ordinales, por lo tanto, no es un problema de regresión.\n",
        "\n",
        "**¿Por qué no es regresión?**\n",
        "La regresión busca predecir valores numéricos continuos (como una calificación promedio, el ingreso anual, etc.), mientras que en este caso el objetivo es **clasificar cada estudiante en una de varias categorías posibles**, con base en sus características académicas y administrativas.\n",
        "\n",
        "**Implicación para la elección de métricas**\n",
        "Al ser un problema de clasificación, se justificó plenamente el uso de métricas como:\n",
        "- **Accuracy**\n",
        "- **Precision, Recall**\n",
        "- **F1-score macro y weighted**\n",
        "\n",
        "Estas métricas permiten evaluar correctamente el desempeño de los modelos en escenarios con **múltiples clases y datos desbalanceados**, como el presente caso.\n",
        "\n"
      ],
      "metadata": {
        "id": "OGLf6QTJfTJh"
      }
    },
    {
      "cell_type": "markdown",
      "source": [],
      "metadata": {
        "id": "rtjgkThkflO4"
      }
    },
    {
      "cell_type": "markdown",
      "source": [
        "## **Paso 5: Comparar los resultados obtenidos por los diferentes modelos y analizar sus ventajas y desventajas en relación con el problema específico.**"
      ],
      "metadata": {
        "id": "jSu1CFuQfn8Y"
      }
    },
    {
      "cell_type": "markdown",
      "source": [
        "**Comparación y análisis de los modelos de clasificación**\n",
        "\n",
        "A continuación se presenta una comparación de los modelos evaluados, considerando tanto sus métricas como sus características prácticas frente al problema de predicción del estado académico del estudiante.\n",
        "\n",
        "**Comparación cuantitativa**\n",
        "\n",
        "| Modelo               | Accuracy | F1 Macro | F1 \"Enrolled\" |\n",
        "|----------------------|----------|----------|----------------|\n",
        "| Logistic Regression  | 0.77     | 0.68     | 0.42           |\n",
        "| K-Nearest Neighbors  | 0.68     | 0.60     | 0.31           |\n",
        "| Decision Tree        | 0.69     | 0.64     | 0.43           |\n",
        "| Random Forest        | **0.77** | **0.69** | **0.44**       |\n",
        "| SVM                  | 0.75     | 0.67     | 0.40           |\n",
        "\n",
        "- El modelo **Random Forest** obtuvo el mejor rendimiento general.\n",
        "- La clase \"Enrolled\" sigue siendo la más difícil de predecir, lo cual está relacionado con su menor representación en los datos.\n",
        "\n",
        "**Análisis cualitativo**\n",
        "\n",
        "| Modelo               | Ventajas                                                   | Desventajas                                                |\n",
        "|----------------------|------------------------------------------------------------|-------------------------------------------------------------|\n",
        "| **Logistic Regression** | Rápido, interpretable, buen desempeño general             | Puede no capturar relaciones no lineales                    |\n",
        "| **KNN**              | Simple, no requiere entrenamiento                           | Lento con grandes datasets, sensible al escalado           |\n",
        "| **Decision Tree**    | Interpretable, maneja variables categóricas                 | Puede sobreajustarse fácilmente                            |\n",
        "| **Random Forest**    | Robusto, buen rendimiento, reduce sobreajuste               | Menos interpretable, más costoso computacionalmente         |\n",
        "| **SVM**              | Bueno para espacios complejos, funciona bien con margen     | Costoso en tiempo, sensible a hiperparámetros               |\n",
        "\n",
        "**Conclusión**\n",
        "\n",
        "- **Random Forest** fue el modelo con mejor balance entre precisión global y desempeño por clase, especialmente en la clase minoritaria \"Enrolled\".\n",
        "- Modelos más simples como KNN mostraron limitaciones frente al tamaño y complejidad del dataset.\n",
        "- Se recomienda considerar Random Forest como modelo base, y ajustar sus hiperparámetros para posibles mejoras adicionales.\n"
      ],
      "metadata": {
        "id": "8_C6z1C4gTZC"
      }
    },
    {
      "cell_type": "markdown",
      "source": [],
      "metadata": {
        "id": "dlJU9CPWgkTx"
      }
    },
    {
      "cell_type": "markdown",
      "source": [
        "## **Paso 6: La presentación de este trabajo se debe realizar por medio de un informe que presente los resultados de la evaluación comparativa, destacando cuál modelo se desempeñó mejor y por qué.**"
      ],
      "metadata": {
        "id": "L63gCxJ1ihE0"
      }
    },
    {
      "cell_type": "markdown",
      "source": [
        "**Informe Final – Evaluación Comparativa de Modelos de Clasificación**\n",
        "\n",
        "**Objetivo**  \n",
        "El propósito de esta actividad fue aplicar técnicas de aprendizaje automático supervisado para predecir el estado final de los estudiantes universitarios (Dropout, Enrolled, Graduate) utilizando un conjunto de datos reales. Se entrenaron varios modelos de clasificación con el fin de comparar su rendimiento y determinar cuál ofrece mejores resultados en este contexto.\n",
        "\n",
        "1. Se seleccionó un subconjunto de variables relevantes del dataset original.\n",
        "2. Se realizó el preprocesamiento completo: codificación de variables categóricas y escalado de características numéricas.\n",
        "3. Se dividió el dataset en entrenamiento (70%) y prueba (30%), asegurando estratificación de clases.\n",
        "4. Se entrenaron los siguientes modelos:\n",
        "   - Regresión Logística Multiclase\n",
        "   - K-Nearest Neighbors\n",
        "   - Árbol de Decisión\n",
        "   - Random Forest\n",
        "   - Support Vector Machine (SVM)\n",
        "5. Se evaluó el desempeño de los modelos utilizando métricas como accuracy, F1-score macro y F1 por clase.\n",
        "\n",
        "**Resultados comparativos**\n",
        "\n",
        "| Modelo               | Accuracy | F1 Macro | F1 \"Enrolled\" |\n",
        "|----------------------|----------|----------|----------------|\n",
        "| Logistic Regression  | 0.77     | 0.68     | 0.42           |\n",
        "| K-Nearest Neighbors  | 0.68     | 0.60     | 0.31           |\n",
        "| Decision Tree        | 0.69     | 0.64     | 0.43           |\n",
        "| Random Forest        | **0.77** | **0.69** | **0.44**       |\n",
        "| SVM                  | 0.75     | 0.67     | 0.40           |\n",
        "\n",
        "**Modelo con mejor desempeño**  \n",
        "El modelo **Random Forest** fue el que obtuvo el mejor rendimiento general, destacándose por:\n",
        "- Su mayor F1-score macro (0.69), que evalúa el desempeño equilibrado entre clases.\n",
        "- Mejor precisión para la clase \"Enrolled\", que es la más difícil de predecir por su menor representación.\n",
        "- Robusteza frente al sobreajuste y capacidad de manejar relaciones no lineales entre variables.\n",
        "\n",
        "**Justificación de la elección**  \n",
        "Random Forest demostró ser el modelo más sólido frente a un conjunto de datos complejo y desbalanceado. A pesar de que otros modelos (como la Regresión Logística) también mostraron buen desempeño, Random Forest logró un mejor equilibrio entre precisión general y sensibilidad por clase. Por ello, se recomienda como el modelo base para futuros ajustes o despliegue.\n",
        "\n"
      ],
      "metadata": {
        "id": "TAO3bRzRiu4h"
      }
    },
    {
      "cell_type": "markdown",
      "source": [
        "# **Paso 7: Destacar los aprendizajes más importantes adquiridos durante las actividades.**  "
      ],
      "metadata": {
        "id": "GSGYiyGRjuiq"
      }
    },
    {
      "cell_type": "markdown",
      "source": [
        "## Aprendizajes Adquiridos\n",
        "\n",
        "Durante el desarrollo de esta actividad de aprendizaje supervisado se adquirieron múltiples conocimientos tanto técnicos como prácticos relacionados con la ciencia de datos y el uso de modelos de clasificación.\n",
        "\n",
        "## 1. Comprensión del aprendizaje supervisado\n",
        "- Se reforzó el concepto de que en el aprendizaje supervisado se requiere una variable objetivo conocida, a partir de la cual se entrena un modelo para hacer predicciones.\n",
        "- Se comprendió la diferencia entre problemas de clasificación (categorías) y regresión (valores continuos).\n",
        "\n",
        "## 2. Importancia del preprocesamiento\n",
        "- Se aprendió a identificar las variables más relevantes para el problema.\n",
        "- Se aplicaron técnicas de codificación para variables categóricas y escalado para variables numéricas.\n",
        "- Se destacó la necesidad de mantener una buena calidad de datos para obtener modelos confiables.\n",
        "\n",
        "## 3. Evaluación crítica de modelos\n",
        "- Se comprendieron las ventajas y limitaciones de diferentes algoritmos (regresión logística, árboles, vecinos cercanos, etc.).\n",
        "- Se observó cómo el desbalance entre clases afecta la capacidad de los modelos para predecir correctamente.\n",
        "- Se aprendió a utilizar métricas como F1-score macro, precision y recall para una evaluación más justa del desempeño.\n",
        "\n",
        "## 4. Interpretación de resultados\n",
        "- No solo se observó la precisión general, sino el comportamiento específico del modelo en cada clase.\n",
        "- Se identificó que el modelo Random Forest ofrece una solución sólida en problemas multiclase con desbalance.\n",
        "\n",
        "## 5. Importancia de la comparación y justificación\n",
        "- Más allá de entrenar modelos, se aprendió a **comparar objetivamente** los resultados y **justificar** cuál modelo fue mejor y por qué, basándose en evidencia cuantitativa y análisis cualitativo.\n",
        "\n",
        "## Conclusión\n",
        "Esta actividad permitió experimentar de forma práctica con todo el flujo de trabajo de un problema de clasificación supervisada, desde la carga del dataset hasta el análisis comparativo de modelos. Se fortalecieron habilidades clave que serán útiles en proyectos futuros más complejos.\n"
      ],
      "metadata": {
        "id": "mtQhupk9j-BJ"
      }
    },
    {
      "cell_type": "markdown",
      "source": [
        "## Nota sobre el uso de parámetros por defecto\n",
        "\n",
        "Hasta este punto del trabajo, todos los modelos fueron implementados utilizando sus **hiperparámetros por defecto**, con el fin de establecer una base de comparación inicial entre ellos y simplificar el flujo de trabajo.\n",
        "\n",
        "Esta aproximación es válida en etapas exploratorias, ya que permite evaluar rápidamente el comportamiento general de los modelos con configuración estándar.\n",
        "\n",
        "## A continuación: ajuste de hiperparámetros\n",
        "\n",
        "Con el fin de mejorar el rendimiento de los modelos, en particular el que mejor desempeño mostró (Random Forest), se procederá a modificar y ajustar sus **hiperparámetros clave** utilizando una búsqueda sistemática (`GridSearchCV`).\n",
        "\n",
        "Este proceso permitirá:\n",
        "- Explorar diferentes configuraciones del modelo.\n",
        "- Comparar su rendimiento con validación cruzada.\n",
        "- Identificar la combinación de hiperparámetros que ofrece mejores resultados en el conjunto de prueba.\n",
        "\n"
      ],
      "metadata": {
        "id": "0b5jICSueN1w"
      }
    },
    {
      "cell_type": "markdown",
      "source": [
        "## Ajuste de Hiperparámetros con GridSearchCV\n",
        "\n",
        "Luego de comparar el rendimiento de varios modelos con hiperparámetros por defecto, se identificó que el modelo **Random Forest** ofrecía el mejor desempeño inicial. Con base en esto, se decidió realizar un ajuste de hiperparámetros para optimizar aún más su rendimiento.\n",
        "\n",
        "### ¿Qué son los hiperparámetros?\n",
        "\n",
        "Los hiperparámetros son configuraciones externas del modelo que afectan su comportamiento y capacidad de generalización. A diferencia de los parámetros internos que se aprenden automáticamente durante el entrenamiento, los hiperparámetros deben ser definidos previamente por el usuario y ajustados mediante pruebas sistemáticas.\n",
        "\n",
        "### Objetivo del ajuste\n",
        "\n",
        "El objetivo fue encontrar la combinación de hiperparámetros que maximizara el rendimiento del modelo, específicamente el **F1-score macro**, que evalúa el desempeño promedio por clase, ideal para problemas con clases desbalanceadas.\n",
        "\n",
        "### Hiperparámetros evaluados\n",
        "\n",
        "Se utilizó `GridSearchCV` para evaluar múltiples combinaciones de los siguientes hiperparámetros:\n",
        "\n",
        "- `n_estimators`: número de árboles en el bosque\n",
        "- `max_depth`: profundidad máxima de los árboles\n",
        "- `min_samples_split`: mínimo de muestras para dividir un nodo\n",
        "- `min_samples_leaf`: mínimo de muestras por hoja\n",
        "\n",
        "### Método de evaluación\n",
        "\n",
        "Se aplicó **validación cruzada con 5 folds** para garantizar una evaluación más robusta del rendimiento del modelo en distintas particiones de los datos.\n",
        "\n",
        "### Resultados\n",
        "\n",
        "Se seleccionó la mejor combinación de hiperparámetros en base al mejor F1-score promedio (macro). El modelo optimizado fue posteriormente evaluado en el conjunto de prueba, y sus resultados se compararon con los obtenidos previamente con los parámetros por defecto.\n",
        "\n",
        "Este proceso permitió identificar una versión aún más precisa y robusta del modelo Random Forest para el problema tratado.\n"
      ],
      "metadata": {
        "id": "3ox75Mukl67j"
      }
    },
    {
      "cell_type": "code",
      "source": [
        "from sklearn.ensemble import RandomForestClassifier\n",
        "from sklearn.model_selection import GridSearchCV\n",
        "from sklearn.metrics import classification_report\n",
        "\n",
        "# Definimos el modelo base\n",
        "rf_model = RandomForestClassifier(random_state=42)\n",
        "\n",
        "# Definimos el grid de hiperparámetros\n",
        "param_grid = {\n",
        "    'n_estimators': [100, 200, 300],\n",
        "    'max_depth': [None, 10, 20, 30],\n",
        "    'min_samples_split': [2, 5, 10],\n",
        "    'min_samples_leaf': [1, 2, 4]\n",
        "}\n",
        "\n",
        "# Configuramos la búsqueda\n",
        "grid_search = GridSearchCV(\n",
        "    estimator=rf_model,\n",
        "    param_grid=param_grid,\n",
        "    cv=5,  # validación cruzada con 5 folds\n",
        "    scoring='f1_macro',\n",
        "    n_jobs=-1,  # usa todos los núcleos disponibles\n",
        "    verbose=2\n",
        ")\n",
        "\n",
        "# Ejecutamos la búsqueda\n",
        "grid_search.fit(X_train, y_train)\n",
        "\n",
        "# Guardamos el mejor modelo encontrado\n",
        "best_rf = grid_search.best_estimator_\n"
      ],
      "metadata": {
        "colab": {
          "base_uri": "https://localhost:8080/"
        },
        "id": "vGvjW2utmG3F",
        "outputId": "59fb6086-d8aa-48ad-8fa6-74f8f31868ae"
      },
      "execution_count": 10,
      "outputs": [
        {
          "output_type": "stream",
          "name": "stdout",
          "text": [
            "Fitting 5 folds for each of 108 candidates, totalling 540 fits\n"
          ]
        }
      ]
    },
    {
      "cell_type": "code",
      "source": [
        "print(\"Mejores hiperparámetros:\", grid_search.best_params_)\n",
        "print(\"Mejor F1-score (macro):\", grid_search.best_score_)\n"
      ],
      "metadata": {
        "colab": {
          "base_uri": "https://localhost:8080/"
        },
        "id": "1mEKtToMnvL-",
        "outputId": "df4990fb-3083-4488-af6e-a69232de70fc"
      },
      "execution_count": 11,
      "outputs": [
        {
          "output_type": "stream",
          "name": "stdout",
          "text": [
            "Mejores hiperparámetros: {'max_depth': 20, 'min_samples_leaf': 1, 'min_samples_split': 5, 'n_estimators': 200}\n",
            "Mejor F1-score (macro): 0.688750638432062\n"
          ]
        }
      ]
    },
    {
      "cell_type": "code",
      "source": [
        "mejor_modelo = grid_search.best_estimator_\n",
        "\n",
        "# Predicción en datos de prueba\n",
        "y_pred_opt = mejor_modelo.predict(X_test)\n",
        "\n",
        "# Evaluación final\n",
        "print(\"Resultados con Hiperparámetros Random Forest\")\n",
        "print(classification_report(y_test, y_pred_opt, target_names=le_target.classes_))\n"
      ],
      "metadata": {
        "colab": {
          "base_uri": "https://localhost:8080/"
        },
        "id": "aFmYQQDIeSZ6",
        "outputId": "68537972-bafd-4c1f-d0f8-acf35ee18b49"
      },
      "execution_count": 12,
      "outputs": [
        {
          "output_type": "stream",
          "name": "stdout",
          "text": [
            "Resultados con Hiperparámetros Random Forest\n",
            "              precision    recall  f1-score   support\n",
            "\n",
            "     Dropout       0.81      0.76      0.79       427\n",
            "    Enrolled       0.61      0.36      0.45       238\n",
            "    Graduate       0.79      0.94      0.86       663\n",
            "\n",
            "    accuracy                           0.78      1328\n",
            "   macro avg       0.74      0.69      0.70      1328\n",
            "weighted avg       0.77      0.78      0.76      1328\n",
            "\n"
          ]
        }
      ]
    },
    {
      "cell_type": "markdown",
      "source": [
        "## Comparación: Random Forest antes y después del ajuste de hiperparámetros\n",
        "\n",
        "Una vez aplicado el ajuste de hiperparámetros al modelo Random Forest, se obtuvo una mejora significativa en su desempeño general.\n",
        "\n",
        "### Mejores hiperparámetros encontrados:\n",
        "- `n_estimators`: 200\n",
        "- `max_depth`: 20\n",
        "- `min_samples_split`: 5\n",
        "- `min_samples_leaf`: 1\n",
        "\n",
        "### Resultados comparativos\n",
        "\n",
        "| Métrica                  | Antes (por defecto) | Después (ajustado)     |\n",
        "|--------------------------|---------------------|------------------------|\n",
        "| Accuracy                 | 0.77                | **0.78**               |\n",
        "| F1-score (macro avg)     | 0.69                | **0.74**               |\n",
        "| F1-score \"Enrolled\"      | 0.44                | **0.45**               |\n",
        "\n",
        "### Conclusión\n",
        "\n",
        "El ajuste de hiperparámetros permitió optimizar el modelo Random Forest, mejorando tanto el rendimiento general como el equilibrio entre clases. Este paso demostró ser una herramienta clave para obtener un modelo más robusto y confiable frente a nuevos datos.\n",
        "\n"
      ],
      "metadata": {
        "id": "jXkFE2tmobyG"
      }
    },
    {
      "cell_type": "markdown",
      "source": [
        "# Cierre de la Actividad 1 – Aprendizaje Supervisado\n",
        "\n",
        "## Resumen técnico del trabajo\n",
        "\n",
        "En esta actividad se aplicaron técnicas de aprendizaje automático supervisado para predecir el estado final de estudiantes universitarios (Dropout, Enrolled, Graduate), a partir de datos académicos y administrativos reales.\n",
        "\n",
        "### Lo que se realizó paso a paso:\n",
        "\n",
        "1. **Selección y análisis del dataset:**  \n",
        "   Se utilizó un conjunto de datos público con 4 424 estudiantes y 37 variables. Se identificaron las variables más relevantes para el problema de predicción de estado académico.\n",
        "\n",
        "2. **Preprocesamiento:**  \n",
        "   - Se codificaron variables categóricas.\n",
        "   - Se escalaron variables numéricas.\n",
        "   - Se dividió el conjunto en entrenamiento (70%) y prueba (30%), con estratificación para mantener el equilibrio de clases.\n",
        "\n",
        "3. **Entrenamiento de modelos:**  \n",
        "   Se compararon cinco algoritmos de clasificación: Regresión Logística, KNN, Árbol de Decisión, Random Forest y SVM.\n",
        "\n",
        "4. **Evaluación de desempeño:**  \n",
        "   Se utilizaron métricas como accuracy, F1-score (macro y por clase), precision y recall para evaluar los modelos de forma más justa ante el desbalance de clases.\n",
        "\n",
        "5. **Mejor modelo identificado:**  \n",
        "   Random Forest fue el modelo con mejor desempeño inicial.\n",
        "\n",
        "6. **Ajuste de hiperparámetros:**  \n",
        "   Se aplicó `GridSearchCV` para optimizar los hiperparámetros del modelo Random Forest, logrando una mejora en la mayoría de las métricas, incluyendo el F1-score para la clase más difícil (\"Enrolled\").\n",
        "\n",
        "---\n",
        "\n",
        "## Reflexión práctica: ¿Qué significa esto en el contexto real de la predicción de deserción?\n",
        "\n",
        "El trabajo realizado va más allá de una simple predicción numérica: representa una herramienta valiosa para la toma de decisiones dentro de una universidad.\n",
        "\n",
        "- El modelo entrenado puede ser integrado en sistemas institucionales, donde, al ingresar los datos actuales de un estudiante, se pueda **predecir automáticamente si está en riesgo de desertar**.\n",
        "- Esto permitiría a la institución:\n",
        "  - Detectar de forma **temprana** a estudiantes en riesgo.\n",
        "  - **Priorizar recursos de apoyo académico o psicológico**.\n",
        "  - Evaluar el impacto de políticas o cambios administrativos en el rendimiento estudiantil.\n",
        "- En resumen, este modelo se convierte en un **sistema de alerta inteligente**, que ayuda a prevenir la deserción y mejorar la retención estudiantil.\n",
        "\n",
        "Además, al evaluar distintos modelos y ajustar hiperparámetros, se garantiza que la solución no solo sea funcional, sino también confiable y optimizada para el contexto de la universidad.\n",
        "\n"
      ],
      "metadata": {
        "id": "IfldN5bTodyM"
      }
    },
    {
      "cell_type": "markdown",
      "source": [
        "## Modelo con parámetros por defecto vs. modelo ajustado\n",
        "\n",
        "Inicialmente, el modelo Random Forest fue entrenado con los hiperparámetros por defecto. Esta configuración permitió evaluar rápidamente su rendimiento, con resultados sólidos en general.\n",
        "\n",
        "- **¿Qué hacía el modelo en esta etapa?**  \n",
        "  Predecía el estado final del estudiante (Dropout, Enrolled, Graduate) basándose en los patrones aprendidos del historial académico y administrativo. Sin embargo, usaba una configuración genérica que no estaba optimizada para nuestro dataset específico.\n",
        "\n",
        "- **¿Qué se logró al ajustar hiperparámetros?**  \n",
        "  Al personalizar valores clave como la cantidad de árboles (`n_estimators`), la profundidad máxima de los árboles (`max_depth`) y los criterios de división, el modelo:\n",
        "  - Aumentó su capacidad para generalizar y reducir errores.\n",
        "  - Mejoró el F1-score macro (de 0.69 a 0.74), lo cual indica mayor equilibrio entre clases.\n",
        "  - Logró una predicción más justa y efectiva para la clase minoritaria \"Enrolled\".\n",
        "\n",
        "Este ajuste convierte al modelo en una herramienta más confiable para casos reales.\n",
        "\n"
      ],
      "metadata": {
        "id": "HfpJF2MpqrGw"
      }
    },
    {
      "cell_type": "markdown",
      "source": [
        "## Desbalance en los datos y cómo afecta al modelo\n",
        "\n",
        "Una de las principales dificultades del dataset utilizado es el **desequilibrio entre clases** en la variable objetivo (`Target`), distribuida aproximadamente así:\n",
        "\n",
        "- Graduate (Egresado): **50 %**\n",
        "- Dropout (Desertó): **32 %**\n",
        "- Enrolled (Aún matriculado): **18 %**\n",
        "\n",
        "Este desbalance puede llevar a **errores de interpretación y evaluación**, por ejemplo:\n",
        "- Un modelo puede lograr alta precisión simplemente prediciendo la clase mayoritaria (\"Graduate\") todo el tiempo.\n",
        "- Las clases minoritarias, como \"Enrolled\", pueden quedar mal representadas, con bajos valores de recall y F1-score.\n",
        "- Esto puede ocultar casos críticos si se utiliza el modelo para toma de decisiones institucionales.\n",
        "\n",
        "### Recomendaciones para mejorar el dataset\n",
        "\n",
        "1. **Recolectar más datos de estudiantes en riesgo de deserción o aún matriculados**, para balancear mejor las clases.\n",
        "2. **Aplicar técnicas de re-muestreo**:\n",
        "   - **Oversampling**: aumentar artificialmente los casos minoritarios (ej. SMOTE).\n",
        "   - **Undersampling**: reducir la cantidad de casos en clases mayoritarias.\n",
        "3. **Revisar si hay sesgos de muestreo en el origen del dataset**, como carreras con muchos egresados y pocos desertores.\n",
        "4. **Complementar con datos cualitativos o temporales** (por ejemplo, evolución del rendimiento a lo largo del semestre) para enriquecer la predicción.\n",
        "\n",
        "Trabajar con un dataset más balanceado o aplicar técnicas específicas permite que el modelo tenga un mejor desempeño global y, sobre todo, un mayor impacto práctico en contextos como la prevención de la deserción.\n",
        "\n"
      ],
      "metadata": {
        "id": "VdjY40Gkqtc_"
      }
    },
    {
      "cell_type": "markdown",
      "source": [
        "## Matriz de confusión\n",
        "\n",
        "Para complementar la evaluación del modelo optimizado, se generó una **matriz de confusión**, la cual permite visualizar de forma detallada los aciertos y errores en las predicciones.\n",
        "\n",
        "### ¿Qué representa?\n",
        "\n",
        "La matriz de confusión compara las **clases reales** con las **clases predichas** por el modelo. Cada celda indica cuántas veces el modelo:\n",
        "- Acertó al predecir correctamente una clase (diagonal principal).\n",
        "- Se equivocó prediciendo una clase distinta (fuera de la diagonal).\n",
        "\n",
        "### ¿Por qué es útil?\n",
        "\n",
        "- Permite detectar **errores sistemáticos**, como confundir estudiantes \"Enrolled\" con \"Dropout\".\n",
        "- Complementa las métricas numéricas como precisión, recall y F1-score.\n",
        "- Es especialmente importante en problemas de **clasificación multiclase y desbalanceada**, como este.\n",
        "\n",
        "### Interpretación\n",
        "\n",
        "La diagonal principal de la matriz muestra los aciertos por clase. En nuestro caso, se observa que:\n",
        "- El modelo tiene un buen desempeño prediciendo \"Graduate\" y \"Dropout\".\n",
        "- La clase \"Enrolled\" sigue siendo la más difícil de predecir, con algunos errores hacia las otras dos clases.\n",
        "\n",
        "Esta herramienta refuerza la evaluación global del modelo y ayuda a dirigir futuras mejoras.\n",
        "\n"
      ],
      "metadata": {
        "id": "9-wG-691vWib"
      }
    },
    {
      "cell_type": "code",
      "source": [
        "from sklearn.metrics import confusion_matrix, ConfusionMatrixDisplay\n",
        "\n",
        "# Generamos la matriz de confusión\n",
        "cm = confusion_matrix(y_test, y_pred_opt)\n",
        "\n",
        "# Mostramos la matriz de confusión con etiquetas\n",
        "disp = ConfusionMatrixDisplay(confusion_matrix=cm, display_labels=le_target.classes_)\n",
        "disp.plot(cmap='Blues', values_format='d')  # 'd' para enteros\n"
      ],
      "metadata": {
        "colab": {
          "base_uri": "https://localhost:8080/",
          "height": 466
        },
        "id": "t5RDhyQsn4o2",
        "outputId": "9b814b15-90d6-4697-f8b4-2c50a0561b17"
      },
      "execution_count": 13,
      "outputs": [
        {
          "output_type": "execute_result",
          "data": {
            "text/plain": [
              "<sklearn.metrics._plot.confusion_matrix.ConfusionMatrixDisplay at 0x7ede91e2df70>"
            ]
          },
          "metadata": {},
          "execution_count": 13
        },
        {
          "output_type": "display_data",
          "data": {
            "text/plain": [
              "<Figure size 640x480 with 2 Axes>"
            ],
            "image/png": "[encoded data removed]"
          },
          "metadata": {}
        }
      ]
    },
    {
      "cell_type": "markdown",
      "source": [
        "## Análisis de la Matriz de Confusión\n",
        "\n",
        "La matriz de confusión generada a partir del modelo Random Forest optimizado proporciona información detallada sobre cómo el modelo clasifica cada una de las clases:\n",
        "\n",
        "### Observaciones clave:\n",
        "\n",
        "- **Clase \"Graduate\" (egresado):**\n",
        "  - Es la clase mejor clasificada, con **625 aciertos sobre 663 casos reales**.\n",
        "  - Tiene muy pocos errores hacia otras clases (14 como \"Dropout\", 24 como \"Enrolled\").\n",
        "  - Esto se explica parcialmente porque es la clase con **más ejemplos en el dataset**, lo que facilita el aprendizaje del modelo.\n",
        "\n",
        "- **Clase \"Dropout\" (desertó):**\n",
        "  - Tiene un buen desempeño general: **326 predicciones correctas de 427 casos reales**.\n",
        "  - Sin embargo, se observan **71 confusiones con \"Graduate\"**, lo cual es preocupante, ya que el modelo tiende a sobreestimar el éxito académico de algunos desertores.\n",
        "\n",
        "- **Clase \"Enrolled\" (aún matriculado):**\n",
        "  - Es la clase con **mayor dificultad para el modelo**.\n",
        "  - Solo **85 de 238 casos reales fueron correctamente clasificados**.\n",
        "  - El modelo confundió esta clase con \"Dropout\" (62 veces) y con \"Graduate\" (91 veces).\n",
        "  - Este comportamiento refuerza la necesidad de trabajar con técnicas específicas para mejorar la detección de esta clase, como balanceo de datos o recolección adicional.\n",
        "\n",
        "### Conclusión\n",
        "\n",
        "La matriz de confusión confirma los patrones observados en las métricas previas: el modelo es confiable para predecir \"Graduate\", adecuado para \"Dropout\", pero requiere mejoras específicas para predecir correctamente a estudiantes \"Enrolled\", que son los más inciertos en su trayectoria académica.\n",
        "\n",
        "Esta visualización es clave para identificar **áreas de mejora** y posibles sesgos del modelo.\n"
      ],
      "metadata": {
        "id": "JNl3DKaywsyL"
      }
    },
    {
      "cell_type": "code",
      "source": [
        "import pandas as pd\n",
        "df_preprocesado = pd.DataFrame(X_scaled, columns=X.columns)\n",
        "df_preprocesado.to_csv('/content/drive/MyDrive/dataset_preprocesado.csv', index=False)\n"
      ],
      "metadata": {
        "id": "LzI1nZehX-mN"
      },
      "execution_count": 14,
      "outputs": []
    },
    {
      "cell_type": "code",
      "source": [
        "from sklearn.linear_model import LogisticRegression\n",
        "from sklearn.model_selection import GridSearchCV\n",
        "from sklearn.metrics import classification_report\n",
        "\n",
        "# Definimos el modelo base\n",
        "log_model = LogisticRegression(random_state=42, max_iter=1000)\n",
        "\n",
        "# Definimos el grid de hiperparámetros\n",
        "param_grid = {\n",
        "    'C': [0.01, 0.1, 1, 10, 100],\n",
        "    'penalty': ['l2'],\n",
        "    'solver': ['lbfgs', 'saga']\n",
        "}\n",
        "\n",
        "# Configuramos la búsqueda\n",
        "grid_search_log = GridSearchCV(\n",
        "    estimator=log_model,\n",
        "    param_grid=param_grid,\n",
        "    cv=5,\n",
        "    scoring='f1_macro',\n",
        "    n_jobs=-1,\n",
        "    verbose=2\n",
        ")\n",
        "\n",
        "# Ejecutamos la búsqueda\n",
        "grid_search_log.fit(X_train, y_train)\n",
        "\n",
        "# Resultados\n",
        "print(\"Modelo: Logistic Regression\")\n",
        "print(\"Mejores hiperparámetros:\", grid_search_log.best_params_)\n",
        "print(\"Mejor F1-score (macro):\", grid_search_log.best_score_)\n",
        "\n",
        "# Modelo optimizado\n",
        "mejor_modelo_log = grid_search_log.best_estimator_\n",
        "\n",
        "# Predicción y evaluación\n",
        "y_pred_log = mejor_modelo_log.predict(X_test)\n",
        "print(classification_report(y_test, y_pred_log, target_names=le_target.classes_))\n"
      ],
      "metadata": {
        "colab": {
          "base_uri": "https://localhost:8080/"
        },
        "id": "bNLMc0sUVE9Z",
        "outputId": "b697140a-7e6b-403a-d6d6-6e0aed41e41c"
      },
      "execution_count": 15,
      "outputs": [
        {
          "output_type": "stream",
          "name": "stdout",
          "text": [
            "Fitting 5 folds for each of 10 candidates, totalling 50 fits\n",
            "Modelo: Logistic Regression\n",
            "Mejores hiperparámetros: {'C': 0.1, 'penalty': 'l2', 'solver': 'lbfgs'}\n",
            "Mejor F1-score (macro): 0.6741188398087831\n",
            "              precision    recall  f1-score   support\n",
            "\n",
            "     Dropout       0.81      0.76      0.78       427\n",
            "    Enrolled       0.52      0.34      0.41       238\n",
            "    Graduate       0.80      0.92      0.86       663\n",
            "\n",
            "    accuracy                           0.77      1328\n",
            "   macro avg       0.71      0.67      0.68      1328\n",
            "weighted avg       0.75      0.77      0.75      1328\n",
            "\n"
          ]
        }
      ]
    },
    {
      "cell_type": "code",
      "source": [
        "import matplotlib.pyplot as plt\n",
        "\n",
        "from sklearn.metrics import confusion_matrix, ConfusionMatrixDisplay\n",
        "\n",
        "# Predicciones del modelo ajustado\n",
        "y_pred_rf_tuned = best_rf.predict(X_test)\n",
        "\n",
        "# Matriz de confusión\n",
        "cm_tuned = confusion_matrix(y_test, y_pred_rf_tuned)\n",
        "disp = ConfusionMatrixDisplay(confusion_matrix=cm_tuned, display_labels=le_target.classes_)\n",
        "\n",
        "# Visualización\n",
        "disp.plot(cmap='Blues')\n",
        "plt.title(\"Matriz de Confusión - Random Forest (ajustado)\")\n",
        "plt.show()\n"
      ],
      "metadata": {
        "colab": {
          "base_uri": "https://localhost:8080/",
          "height": 472
        },
        "id": "bTkWy8CgI-we",
        "outputId": "9398c531-ab96-4f42-f159-386fb61a1ada"
      },
      "execution_count": 16,
      "outputs": [
        {
          "output_type": "display_data",
          "data": {
            "text/plain": [
              "<Figure size 640x480 with 2 Axes>"
            ],
            "image/png": "[encoded data removed]"
          },
          "metadata": {}
        }
      ]
    },
    {
      "cell_type": "code",
      "source": [
        "from sklearn.metrics import classification_report\n",
        "\n",
        "# Generar el reporte de clasificación\n",
        "report = classification_report(y_test, y_pred_rf_tuned, target_names=['Dropout', 'Enrolled', 'Graduate'])\n",
        "\n",
        "# Mostrar el reporte\n",
        "print(report)\n"
      ],
      "metadata": {
        "colab": {
          "base_uri": "https://localhost:8080/"
        },
        "id": "-_hXD1HGJyFW",
        "outputId": "332d9ca1-30a1-4aad-df1d-4a2ead758623"
      },
      "execution_count": 17,
      "outputs": [
        {
          "output_type": "stream",
          "name": "stdout",
          "text": [
            "              precision    recall  f1-score   support\n",
            "\n",
            "     Dropout       0.81      0.76      0.79       427\n",
            "    Enrolled       0.61      0.36      0.45       238\n",
            "    Graduate       0.79      0.94      0.86       663\n",
            "\n",
            "    accuracy                           0.78      1328\n",
            "   macro avg       0.74      0.69      0.70      1328\n",
            "weighted avg       0.77      0.78      0.76      1328\n",
            "\n"
          ]
        }
      ]
    }
  ]
}